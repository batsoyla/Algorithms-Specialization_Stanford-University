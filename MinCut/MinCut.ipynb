{
 "cells": [
  {
   "cell_type": "code",
   "execution_count": 75,
   "metadata": {},
   "outputs": [],
   "source": [
    "import random"
   ]
  },
  {
   "cell_type": "code",
   "execution_count": 76,
   "metadata": {},
   "outputs": [],
   "source": [
    "def contract(graph, v, w):\n",
    "    for node in graph[w]:  # merge the nodes from w to v\n",
    "        if node != v:  # we dont want to add self-loops\n",
    "            graph[v].append(node)\n",
    "        graph[node].remove(w)  # delete the edges to the absorbed \n",
    "        if node != v:\n",
    "            graph[node].append(v)\n",
    "    del graph[w]  # delete the absorbed vertex 'w'\n",
    "    return graph"
   ]
  },
  {
   "cell_type": "code",
   "execution_count": 77,
   "metadata": {},
   "outputs": [],
   "source": [
    "def mincut(graph):\n",
    "    cuts=[]\n",
    "    while len(graph) > 2:\n",
    "        v = random.choice(list(graph))\n",
    "        w = random.choice(graph[v])\n",
    "        contract(graph, v, w)\n",
    "    mincut = len(graph[list(graph.keys())[0]])\n",
    "    cuts.append(mincut)\n",
    "    return cuts"
   ]
  },
  {
   "cell_type": "code",
   "execution_count": 114,
   "metadata": {},
   "outputs": [
    {
     "name": "stdout",
     "output_type": "stream",
     "text": [
      "[52]\n"
     ]
    }
   ],
   "source": [
    "newDict = {}\n",
    "with open('C:\\\\Users\\\\Vasiliki\\\\Desktop\\\\coursera algorithms\\\\algorithms coursera\\\\week4\\\\data.txt', 'r') as f:\n",
    "    for line in f:\n",
    "        splitLine = line.split()\n",
    "        list_of_integers = list(map(int, splitLine))\n",
    "        newDict[int(list_of_integers[0])] = list_of_integers[1:]\n",
    "b=mincut(newDict)\n",
    "print(b)"
   ]
  }
 ],
 "metadata": {
  "kernelspec": {
   "display_name": "Python 3",
   "language": "python",
   "name": "python3"
  },
  "language_info": {
   "codemirror_mode": {
    "name": "ipython",
    "version": 3
   },
   "file_extension": ".py",
   "mimetype": "text/x-python",
   "name": "python",
   "nbconvert_exporter": "python",
   "pygments_lexer": "ipython3",
   "version": "3.7.3"
  }
 },
 "nbformat": 4,
 "nbformat_minor": 2
}
