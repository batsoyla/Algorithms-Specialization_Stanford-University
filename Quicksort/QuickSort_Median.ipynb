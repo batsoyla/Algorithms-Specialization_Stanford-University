{
 "cells": [
  {
   "cell_type": "code",
   "execution_count": 32,
   "metadata": {},
   "outputs": [],
   "source": [
    "import numpy as np\n",
    "a = np.loadtxt('C:\\\\Users\\\\Vasiliki\\\\Desktop\\\\coursera algorithms\\\\algorithms coursera\\\\Part 1\\\\week 3\\\\QuickSort.txt')\n"
   ]
  },
  {
   "cell_type": "code",
   "execution_count": 33,
   "metadata": {},
   "outputs": [],
   "source": [
    "def partition(A,l,r):\n",
    "    p=A[l]\n",
    "    i=l+1\n",
    "    j=l+1\n",
    "    count_inv=0\n",
    "    for j in range(i,r+1):  \n",
    "        \n",
    "        if A[j]<p:\n",
    "# create a temporary variable and swap the values\n",
    "            temp = A[j]\n",
    "            A[j] = A[i]\n",
    "            A[i]= temp\n",
    "            i+=1\n",
    "    temp=A[l]\n",
    "    A[l]= A[i-1]\n",
    "    A[i-1] = temp\n",
    "    return r-l ,i-1\n"
   ]
  },
  {
   "cell_type": "code",
   "execution_count": 34,
   "metadata": {},
   "outputs": [],
   "source": [
    "def Quicksort(A,l,r):\n",
    "    count_inv=0\n",
    "    if r+1-l<=1:\n",
    "        return 0\n",
    "    else:\n",
    "        po=pivot_loc(A,l,r)\n",
    "        A[l],A[po]=A[po],A[l]\n",
    "        count_inv,a=partition(A,l,r)\n",
    "        count_inv+=Quicksort(A,l,a-1)\n",
    "        count_inv+=Quicksort(A,a+1,r)\n",
    "\n",
    "    return count_inv\n",
    "        \n",
    "   "
   ]
  },
  {
   "cell_type": "code",
   "execution_count": 35,
   "metadata": {},
   "outputs": [],
   "source": [
    "def pivot_loc(A,l,r):\n",
    "    x=(r+1-l)%2\n",
    "    if x==0:\n",
    "        pos = (r-l)//2\n",
    "    else:\n",
    "        pos = (r+1-l)//2\n",
    "    a=sorted([A[l], A[l+pos], A[r]])[1]\n",
    "    if a==A[l]:\n",
    "        return l\n",
    "    elif a==A[l+pos]:\n",
    "        return l+pos\n",
    "    elif a==A[r]:\n",
    "        return r\n",
    "\n",
    "        \n",
    "    "
   ]
  },
  {
   "cell_type": "code",
   "execution_count": 36,
   "metadata": {},
   "outputs": [],
   "source": [
    "def pivot_loc(A,l,r):\n",
    "    x=(r+1-l)%2\n",
    "    if x==0:\n",
    "        pos = (r-l)//2\n",
    "    else:\n",
    "        pos = (r+1-l)//2   \n",
    "    \n",
    "    # (A-B)*(C-A) >= 0\n",
    "    if ((A[l]) -  (A[pos]))*((A[r])-(A[l])) >= 0:\n",
    "        return l\n",
    "    # (B – A)*(C-B) >=0\n",
    "    elif ((A[pos]) - (A[l])) * ((A[r]) - (A[pos])) >=0:\n",
    "        return pos\n",
    "        #B\n",
    "    else:\n",
    "        #C\n",
    "        return r"
   ]
  },
  {
   "cell_type": "code",
   "execution_count": 38,
   "metadata": {},
   "outputs": [
    {
     "data": {
      "text/plain": [
       "63"
      ]
     },
     "execution_count": 38,
     "metadata": {},
     "output_type": "execute_result"
    }
   ],
   "source": [
    "count=Quicksort(a,0,len(a)-1)\n",
    "count"
   ]
  }
 ],
 "metadata": {
  "kernelspec": {
   "display_name": "Python 3",
   "language": "python",
   "name": "python3"
  },
  "language_info": {
   "codemirror_mode": {
    "name": "ipython",
    "version": 3
   },
   "file_extension": ".py",
   "mimetype": "text/x-python",
   "name": "python",
   "nbconvert_exporter": "python",
   "pygments_lexer": "ipython3",
   "version": "3.7.3"
  }
 },
 "nbformat": 4,
 "nbformat_minor": 2
}
