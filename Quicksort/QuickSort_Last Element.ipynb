{
 "cells": [
  {
   "cell_type": "code",
   "execution_count": 1,
   "metadata": {},
   "outputs": [
    {
     "name": "stdout",
     "output_type": "stream",
     "text": [
      "17.0\n",
      "<class 'numpy.ndarray'>\n"
     ]
    },
    {
     "data": {
      "text/plain": [
       "20"
      ]
     },
     "execution_count": 1,
     "metadata": {},
     "output_type": "execute_result"
    }
   ],
   "source": [
    "import numpy as np\n",
    "a = np.loadtxt('C:\\\\Users\\\\Vasiliki\\\\Desktop\\\\coursera algorithms\\\\algorithms coursera\\\\Part 1\\\\week 3\\\\QuickSort.txt')\n"
   ]
  },
  {
   "cell_type": "code",
   "execution_count": 2,
   "metadata": {},
   "outputs": [],
   "source": [
    "def partition(A,l,r):\n",
    "    p=A[l]\n",
    "    i=l+1\n",
    "    j=l+1\n",
    "    count_inv=0\n",
    "    for j in range(i,r+1):     \n",
    "\n",
    "        \n",
    "        if A[j]<p:\n",
    "# create a temporary variable and swap the values\n",
    "            temp = A[j]\n",
    "            A[j] = A[i]\n",
    "            A[i]= temp\n",
    "            i+=1\n",
    "    temp=A[l]\n",
    "    A[l]= A[i-1]\n",
    "    A[i-1] = temp  \n",
    "\n",
    "    \n",
    "    return r-l ,i-1\n"
   ]
  },
  {
   "cell_type": "code",
   "execution_count": 3,
   "metadata": {},
   "outputs": [],
   "source": [
    "def Quicksort(A,l,r):\n",
    "    count_inv=0\n",
    "    if r+1-l<=1:\n",
    "        return 0\n",
    "    else:\n",
    "        A[l],A[r]=A[r],A[l]\n",
    "        p=A[l]\n",
    "        count_inv,a=partition(A,l,r)\n",
    "        count_inv+=Quicksort(A,l,a-1)\n",
    "        count_inv+=Quicksort(A,a+1,r)\n",
    "\n",
    "   # return number of inversions:count_inv\n",
    "    return count_inv\n",
    "        \n",
    "    "
   ]
  },
  {
   "cell_type": "code",
   "execution_count": 4,
   "metadata": {},
   "outputs": [],
   "source": [
    "count=Quicksort(a,0,len(a)-1)"
   ]
  },
  {
   "cell_type": "code",
   "execution_count": 5,
   "metadata": {},
   "outputs": [
    {
     "data": {
      "text/plain": [
       "75"
      ]
     },
     "execution_count": 5,
     "metadata": {},
     "output_type": "execute_result"
    }
   ],
   "source": [
    "count"
   ]
  }
 ],
 "metadata": {
  "kernelspec": {
   "display_name": "Python 3",
   "language": "python",
   "name": "python3"
  },
  "language_info": {
   "codemirror_mode": {
    "name": "ipython",
    "version": 3
   },
   "file_extension": ".py",
   "mimetype": "text/x-python",
   "name": "python",
   "nbconvert_exporter": "python",
   "pygments_lexer": "ipython3",
   "version": "3.7.3"
  }
 },
 "nbformat": 4,
 "nbformat_minor": 2
}
